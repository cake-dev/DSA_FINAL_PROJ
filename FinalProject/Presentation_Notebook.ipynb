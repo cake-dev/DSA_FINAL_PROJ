{
 "cells": [
  {
   "cell_type": "markdown",
   "metadata": {},
   "source": [
    "# Exploring XGBoost: An Analysis of the XGBoost Algorithm and Comparison to Other Machine Learning Algorithms"
   ]
  },
  {
   "cell_type": "markdown",
   "metadata": {},
   "source": [
    "What is XGBoost and how does it work? (background on boosting, XGBoost overview, hyperparameters)\n",
    "\n",
    "How can I use XGBoost? (Installation and setup + simple use case)\n",
    "\n",
    "---\n",
    "\n",
    "What sort of data preprocessing is required for XGBoost? (data preprocessing - handles missing values, doesn't require feature scaling)\n",
    "\n",
    "How can I compare the performance of XGBoost to other models? (discuss other models chosen, performance metrics, review of datasets and code)\n",
    "\n",
    "How does XGBoost perform compared to other models? (results, discussion of results)\n",
    "\n",
    "Why does XGBoost perform better (or worse) than other models? (discussion of results, feature importance)"
   ]
  }
 ],
 "metadata": {
  "language_info": {
   "name": "python"
  },
  "orig_nbformat": 4
 },
 "nbformat": 4,
 "nbformat_minor": 2
}
